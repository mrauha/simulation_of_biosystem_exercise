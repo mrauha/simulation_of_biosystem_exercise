{
 "cells": [
  {
   "cell_type": "code",
   "execution_count": 52,
   "metadata": {
    "collapsed": true
   },
   "outputs": [],
   "source": [
    "import pybel\n",
    "import os\n",
    "import matplotlib.pyplot as plt\n",
    "\n",
    "import pandas as pd\n",
    "import numpy as np\n",
    "\n",
    "from scipy.optimize import curve_fit\n",
    "\n",
    "%matplotlib inline"
   ]
  },
  {
   "cell_type": "code",
   "execution_count": 2,
   "metadata": {
    "collapsed": true
   },
   "outputs": [],
   "source": [
    "def mm_energy(xyzfile, ff = \"mmff94\"):\n",
    "    \"\"\"\n",
    "    Takes as an input the path of a xyz-file,returns a tuple, first element \n",
    "    is the energy, second element is the torsion energy.  \n",
    "    \"\"\"\n",
    "    ff = pybel._forcefields[ff]\n",
    "    mol2 = list(pybel.readfile(\"xyz\", xyzfile))[0]\n",
    "    success = ff.Setup(mol2.OBMol)\n",
    "    if not success:\n",
    "        sys.exit(\"Cannot set up forcefield\")\n",
    "    if ff.GetUnit() != \"kcal/mol\":\n",
    "        print(\"Warning! Energies in {}\".format(ff.GetUnit()))\n",
    "    energy = ff.Energy()\n",
    "    torsion_energy = ff.E_Torsion()\n",
    "    return energy, torsion_energy"
   ]
  },
  {
   "cell_type": "code",
   "execution_count": 3,
   "metadata": {
    "collapsed": true
   },
   "outputs": [],
   "source": [
    "def xyz2ff(xyzdir, ff = \"mmff94\", whole_energy=True):\n",
    "    \"\"\"\n",
    "    Goes through a directory of .xyz files, returns either the whole energy or E-E_torsion of all the molecules.\n",
    "    \"\"\"\n",
    "    results = []\n",
    "    for file in os.listdir(xyzdir):\n",
    "        if not file.endswith(\"xyz\"):\n",
    "            continue\n",
    "        energy, torsion_energy = mm_energy(os.path.join(xyzdir, file), ff)\n",
    "        idx = [int(s) for s in file.split(\".\") if s.isdigit()][0]\n",
    "        results.append([idx,energy, torsion_energy])\n",
    "    results = np.asarray(results)\n",
    "    # sort by first column, remove it\n",
    "    results = results[results[:,0].argsort()][:,1:]\n",
    "    if whole_energy:\n",
    "        results = results[:,0]\n",
    "    else:\n",
    "        results = results[:,0] - results[:,1]\n",
    "    energy_relative = results - np.min(results)\n",
    "    \n",
    "    return energy_relative"
   ]
  },
  {
   "cell_type": "code",
   "execution_count": 4,
   "metadata": {
    "collapsed": true
   },
   "outputs": [],
   "source": [
    "res_qc = pd.read_csv(\"full.csv\")\n"
   ]
  },
  {
   "cell_type": "code",
   "execution_count": 5,
   "metadata": {},
   "outputs": [],
   "source": [
    "mmff94 = xyz2ff(\"xyz_opt\", whole_energy=True)\n",
    "res_qc[\"MMFF94\"] = pd.Series(mmff94)"
   ]
  },
  {
   "cell_type": "code",
   "execution_count": 6,
   "metadata": {
    "collapsed": true
   },
   "outputs": [],
   "source": [
    "#uff = xyz2ff(\"xyz_opt\", ff=\"uff\", whole_energy=True)\n",
    "#uff = uff*0.23901 # from some reason uff energy is in kJ/mol \n",
    "#res_qc[\"UFF\"] = pd.Series(uff)"
   ]
  },
  {
   "cell_type": "code",
   "execution_count": 7,
   "metadata": {
    "collapsed": true
   },
   "outputs": [],
   "source": [
    "for method in ['PBEh-3C', 'HF', 'B3LYP']:\n",
    "    mini = np.min(res_qc[method])\n",
    "    res_qc[method] = res_qc[method].map(lambda a: (a - mini)*627.509 )"
   ]
  },
  {
   "cell_type": "code",
   "execution_count": 8,
   "metadata": {},
   "outputs": [
    {
     "data": {
      "text/plain": [
       "Index(['Angle', 'PBEh-3C', 'HF', 'B3LYP', 'MMFF94'], dtype='object')"
      ]
     },
     "execution_count": 8,
     "metadata": {},
     "output_type": "execute_result"
    }
   ],
   "source": [
    "res_qc.columns"
   ]
  },
  {
   "cell_type": "code",
   "execution_count": 9,
   "metadata": {},
   "outputs": [
    {
     "data": {
      "text/html": [
       "<div>\n",
       "<style>\n",
       "    .dataframe thead tr:only-child th {\n",
       "        text-align: right;\n",
       "    }\n",
       "\n",
       "    .dataframe thead th {\n",
       "        text-align: left;\n",
       "    }\n",
       "\n",
       "    .dataframe tbody tr th {\n",
       "        vertical-align: top;\n",
       "    }\n",
       "</style>\n",
       "<table border=\"1\" class=\"dataframe\">\n",
       "  <thead>\n",
       "    <tr style=\"text-align: right;\">\n",
       "      <th></th>\n",
       "      <th>Angle</th>\n",
       "      <th>PBEh-3C</th>\n",
       "      <th>HF</th>\n",
       "      <th>B3LYP</th>\n",
       "      <th>MMFF94</th>\n",
       "    </tr>\n",
       "  </thead>\n",
       "  <tbody>\n",
       "    <tr>\n",
       "      <th>0</th>\n",
       "      <td>0.000000</td>\n",
       "      <td>4.846503</td>\n",
       "      <td>5.361879</td>\n",
       "      <td>4.533997</td>\n",
       "      <td>5.518483</td>\n",
       "    </tr>\n",
       "    <tr>\n",
       "      <th>1</th>\n",
       "      <td>10.285714</td>\n",
       "      <td>4.743667</td>\n",
       "      <td>5.165312</td>\n",
       "      <td>4.328307</td>\n",
       "      <td>5.016390</td>\n",
       "    </tr>\n",
       "    <tr>\n",
       "      <th>2</th>\n",
       "      <td>20.571429</td>\n",
       "      <td>4.162681</td>\n",
       "      <td>4.432173</td>\n",
       "      <td>3.696817</td>\n",
       "      <td>3.953678</td>\n",
       "    </tr>\n",
       "    <tr>\n",
       "      <th>3</th>\n",
       "      <td>30.857143</td>\n",
       "      <td>3.247767</td>\n",
       "      <td>3.317630</td>\n",
       "      <td>2.789149</td>\n",
       "      <td>2.620025</td>\n",
       "    </tr>\n",
       "    <tr>\n",
       "      <th>4</th>\n",
       "      <td>41.142857</td>\n",
       "      <td>2.239366</td>\n",
       "      <td>2.165822</td>\n",
       "      <td>1.832995</td>\n",
       "      <td>1.429641</td>\n",
       "    </tr>\n",
       "    <tr>\n",
       "      <th>5</th>\n",
       "      <td>51.428571</td>\n",
       "      <td>0.459180</td>\n",
       "      <td>0.391077</td>\n",
       "      <td>0.329759</td>\n",
       "      <td>0.035050</td>\n",
       "    </tr>\n",
       "    <tr>\n",
       "      <th>6</th>\n",
       "      <td>61.714286</td>\n",
       "      <td>0.000000</td>\n",
       "      <td>0.000000</td>\n",
       "      <td>0.000000</td>\n",
       "      <td>0.000000</td>\n",
       "    </tr>\n",
       "    <tr>\n",
       "      <th>7</th>\n",
       "      <td>72.000000</td>\n",
       "      <td>0.320588</td>\n",
       "      <td>0.393004</td>\n",
       "      <td>0.343115</td>\n",
       "      <td>0.652476</td>\n",
       "    </tr>\n",
       "    <tr>\n",
       "      <th>8</th>\n",
       "      <td>82.285714</td>\n",
       "      <td>1.309561</td>\n",
       "      <td>1.404768</td>\n",
       "      <td>1.209888</td>\n",
       "      <td>1.813415</td>\n",
       "    </tr>\n",
       "    <tr>\n",
       "      <th>9</th>\n",
       "      <td>92.571429</td>\n",
       "      <td>2.656126</td>\n",
       "      <td>2.821450</td>\n",
       "      <td>2.427350</td>\n",
       "      <td>3.245083</td>\n",
       "    </tr>\n",
       "    <tr>\n",
       "      <th>10</th>\n",
       "      <td>102.857143</td>\n",
       "      <td>4.120224</td>\n",
       "      <td>4.330431</td>\n",
       "      <td>3.762273</td>\n",
       "      <td>4.767402</td>\n",
       "    </tr>\n",
       "    <tr>\n",
       "      <th>11</th>\n",
       "      <td>113.142857</td>\n",
       "      <td>5.391551</td>\n",
       "      <td>5.605192</td>\n",
       "      <td>4.905922</td>\n",
       "      <td>6.096223</td>\n",
       "    </tr>\n",
       "    <tr>\n",
       "      <th>12</th>\n",
       "      <td>123.428571</td>\n",
       "      <td>6.081692</td>\n",
       "      <td>6.269445</td>\n",
       "      <td>5.531165</td>\n",
       "      <td>6.964298</td>\n",
       "    </tr>\n",
       "    <tr>\n",
       "      <th>13</th>\n",
       "      <td>133.714286</td>\n",
       "      <td>6.049513</td>\n",
       "      <td>6.160569</td>\n",
       "      <td>5.489383</td>\n",
       "      <td>7.123833</td>\n",
       "    </tr>\n",
       "    <tr>\n",
       "      <th>14</th>\n",
       "      <td>144.000000</td>\n",
       "      <td>5.358048</td>\n",
       "      <td>5.349637</td>\n",
       "      <td>4.867591</td>\n",
       "      <td>6.592998</td>\n",
       "    </tr>\n",
       "    <tr>\n",
       "      <th>15</th>\n",
       "      <td>154.285714</td>\n",
       "      <td>4.299278</td>\n",
       "      <td>4.172083</td>\n",
       "      <td>3.940268</td>\n",
       "      <td>5.650908</td>\n",
       "    </tr>\n",
       "    <tr>\n",
       "      <th>16</th>\n",
       "      <td>164.571429</td>\n",
       "      <td>3.310794</td>\n",
       "      <td>3.013108</td>\n",
       "      <td>3.004709</td>\n",
       "      <td>4.621460</td>\n",
       "    </tr>\n",
       "    <tr>\n",
       "      <th>17</th>\n",
       "      <td>174.857143</td>\n",
       "      <td>2.629696</td>\n",
       "      <td>2.200221</td>\n",
       "      <td>2.340105</td>\n",
       "      <td>3.881962</td>\n",
       "    </tr>\n",
       "    <tr>\n",
       "      <th>18</th>\n",
       "      <td>185.142857</td>\n",
       "      <td>2.438745</td>\n",
       "      <td>1.901775</td>\n",
       "      <td>2.051075</td>\n",
       "      <td>3.736354</td>\n",
       "    </tr>\n",
       "    <tr>\n",
       "      <th>19</th>\n",
       "      <td>195.428571</td>\n",
       "      <td>2.850359</td>\n",
       "      <td>2.134808</td>\n",
       "      <td>2.199272</td>\n",
       "      <td>4.249829</td>\n",
       "    </tr>\n",
       "    <tr>\n",
       "      <th>20</th>\n",
       "      <td>205.714286</td>\n",
       "      <td>3.747057</td>\n",
       "      <td>2.872651</td>\n",
       "      <td>2.759667</td>\n",
       "      <td>5.280141</td>\n",
       "    </tr>\n",
       "    <tr>\n",
       "      <th>21</th>\n",
       "      <td>216.000000</td>\n",
       "      <td>4.938333</td>\n",
       "      <td>3.947685</td>\n",
       "      <td>3.599933</td>\n",
       "      <td>6.539115</td>\n",
       "    </tr>\n",
       "    <tr>\n",
       "      <th>22</th>\n",
       "      <td>226.285714</td>\n",
       "      <td>6.164466</td>\n",
       "      <td>5.040030</td>\n",
       "      <td>4.511556</td>\n",
       "      <td>7.669766</td>\n",
       "    </tr>\n",
       "    <tr>\n",
       "      <th>23</th>\n",
       "      <td>236.571429</td>\n",
       "      <td>7.009671</td>\n",
       "      <td>5.831444</td>\n",
       "      <td>5.191982</td>\n",
       "      <td>8.332103</td>\n",
       "    </tr>\n",
       "    <tr>\n",
       "      <th>24</th>\n",
       "      <td>246.857143</td>\n",
       "      <td>7.258466</td>\n",
       "      <td>6.065588</td>\n",
       "      <td>5.405477</td>\n",
       "      <td>8.322727</td>\n",
       "    </tr>\n",
       "    <tr>\n",
       "      <th>25</th>\n",
       "      <td>257.142857</td>\n",
       "      <td>6.823765</td>\n",
       "      <td>5.664750</td>\n",
       "      <td>5.097209</td>\n",
       "      <td>7.788116</td>\n",
       "    </tr>\n",
       "    <tr>\n",
       "      <th>26</th>\n",
       "      <td>267.428571</td>\n",
       "      <td>5.920654</td>\n",
       "      <td>4.864566</td>\n",
       "      <td>4.456052</td>\n",
       "      <td>7.008593</td>\n",
       "    </tr>\n",
       "    <tr>\n",
       "      <th>27</th>\n",
       "      <td>277.714286</td>\n",
       "      <td>4.864776</td>\n",
       "      <td>3.946432</td>\n",
       "      <td>3.701284</td>\n",
       "      <td>6.190482</td>\n",
       "    </tr>\n",
       "    <tr>\n",
       "      <th>28</th>\n",
       "      <td>288.000000</td>\n",
       "      <td>3.977974</td>\n",
       "      <td>3.283678</td>\n",
       "      <td>3.177717</td>\n",
       "      <td>5.590689</td>\n",
       "    </tr>\n",
       "    <tr>\n",
       "      <th>29</th>\n",
       "      <td>298.285714</td>\n",
       "      <td>3.522057</td>\n",
       "      <td>3.097435</td>\n",
       "      <td>3.034308</td>\n",
       "      <td>5.424022</td>\n",
       "    </tr>\n",
       "    <tr>\n",
       "      <th>30</th>\n",
       "      <td>308.571429</td>\n",
       "      <td>3.642709</td>\n",
       "      <td>3.435478</td>\n",
       "      <td>3.333949</td>\n",
       "      <td>5.769926</td>\n",
       "    </tr>\n",
       "    <tr>\n",
       "      <th>31</th>\n",
       "      <td>318.857143</td>\n",
       "      <td>4.289513</td>\n",
       "      <td>4.179498</td>\n",
       "      <td>4.004666</td>\n",
       "      <td>6.213436</td>\n",
       "    </tr>\n",
       "    <tr>\n",
       "      <th>32</th>\n",
       "      <td>329.142857</td>\n",
       "      <td>5.144218</td>\n",
       "      <td>4.820080</td>\n",
       "      <td>4.500930</td>\n",
       "      <td>5.807205</td>\n",
       "    </tr>\n",
       "    <tr>\n",
       "      <th>33</th>\n",
       "      <td>339.428571</td>\n",
       "      <td>4.274384</td>\n",
       "      <td>4.106911</td>\n",
       "      <td>3.435185</td>\n",
       "      <td>3.465107</td>\n",
       "    </tr>\n",
       "    <tr>\n",
       "      <th>34</th>\n",
       "      <td>349.714286</td>\n",
       "      <td>5.699269</td>\n",
       "      <td>5.491204</td>\n",
       "      <td>4.684741</td>\n",
       "      <td>4.539134</td>\n",
       "    </tr>\n",
       "    <tr>\n",
       "      <th>35</th>\n",
       "      <td>360.000000</td>\n",
       "      <td>6.390476</td>\n",
       "      <td>6.173026</td>\n",
       "      <td>5.298725</td>\n",
       "      <td>4.940716</td>\n",
       "    </tr>\n",
       "  </tbody>\n",
       "</table>\n",
       "</div>"
      ],
      "text/plain": [
       "         Angle   PBEh-3C        HF     B3LYP    MMFF94\n",
       "0     0.000000  4.846503  5.361879  4.533997  5.518483\n",
       "1    10.285714  4.743667  5.165312  4.328307  5.016390\n",
       "2    20.571429  4.162681  4.432173  3.696817  3.953678\n",
       "3    30.857143  3.247767  3.317630  2.789149  2.620025\n",
       "4    41.142857  2.239366  2.165822  1.832995  1.429641\n",
       "5    51.428571  0.459180  0.391077  0.329759  0.035050\n",
       "6    61.714286  0.000000  0.000000  0.000000  0.000000\n",
       "7    72.000000  0.320588  0.393004  0.343115  0.652476\n",
       "8    82.285714  1.309561  1.404768  1.209888  1.813415\n",
       "9    92.571429  2.656126  2.821450  2.427350  3.245083\n",
       "10  102.857143  4.120224  4.330431  3.762273  4.767402\n",
       "11  113.142857  5.391551  5.605192  4.905922  6.096223\n",
       "12  123.428571  6.081692  6.269445  5.531165  6.964298\n",
       "13  133.714286  6.049513  6.160569  5.489383  7.123833\n",
       "14  144.000000  5.358048  5.349637  4.867591  6.592998\n",
       "15  154.285714  4.299278  4.172083  3.940268  5.650908\n",
       "16  164.571429  3.310794  3.013108  3.004709  4.621460\n",
       "17  174.857143  2.629696  2.200221  2.340105  3.881962\n",
       "18  185.142857  2.438745  1.901775  2.051075  3.736354\n",
       "19  195.428571  2.850359  2.134808  2.199272  4.249829\n",
       "20  205.714286  3.747057  2.872651  2.759667  5.280141\n",
       "21  216.000000  4.938333  3.947685  3.599933  6.539115\n",
       "22  226.285714  6.164466  5.040030  4.511556  7.669766\n",
       "23  236.571429  7.009671  5.831444  5.191982  8.332103\n",
       "24  246.857143  7.258466  6.065588  5.405477  8.322727\n",
       "25  257.142857  6.823765  5.664750  5.097209  7.788116\n",
       "26  267.428571  5.920654  4.864566  4.456052  7.008593\n",
       "27  277.714286  4.864776  3.946432  3.701284  6.190482\n",
       "28  288.000000  3.977974  3.283678  3.177717  5.590689\n",
       "29  298.285714  3.522057  3.097435  3.034308  5.424022\n",
       "30  308.571429  3.642709  3.435478  3.333949  5.769926\n",
       "31  318.857143  4.289513  4.179498  4.004666  6.213436\n",
       "32  329.142857  5.144218  4.820080  4.500930  5.807205\n",
       "33  339.428571  4.274384  4.106911  3.435185  3.465107\n",
       "34  349.714286  5.699269  5.491204  4.684741  4.539134\n",
       "35  360.000000  6.390476  6.173026  5.298725  4.940716"
      ]
     },
     "execution_count": 9,
     "metadata": {},
     "output_type": "execute_result"
    }
   ],
   "source": [
    "res_qc"
   ]
  },
  {
   "cell_type": "code",
   "execution_count": 53,
   "metadata": {},
   "outputs": [
    {
     "data": {
      "image/png": "[encoded data removed]",
      "text/plain": [
       "<matplotlib.figure.Figure at 0x7f450cf86320>"
      ]
     },
     "metadata": {},
     "output_type": "display_data"
    }
   ],
   "source": [
    "plt.figure()\n",
    "for i in ['PBEh-3C', 'HF', 'B3LYP', 'MMFF94']:\n",
    "    plt.plot(res_qc[\"Angle\"], res_qc[i], label=i)\n",
    "plt.legend()\n",
    "plt.xlabel(r'$\\psi$ in degrees')\n",
    "plt.ylabel(r'V')\n",
    "plt.savefig(\"scan.pdf\")"
   ]
  },
  {
   "cell_type": "code",
   "execution_count": 29,
   "metadata": {},
   "outputs": [],
   "source": [
    "def fit(V, phi):\n",
    "    psi = phi - 180\n",
    "    psi_rad = np.deg2rad(psi)\n",
    "    V -= np.min(V)\n",
    "    C = np.polyfit(np.cos(psi_rad), V , deg=5)\n",
    "    return C"
   ]
  },
  {
   "cell_type": "code",
   "execution_count": 30,
   "metadata": {
    "collapsed": true
   },
   "outputs": [],
   "source": [
    "def V_RB(phi, C_vec):\n",
    "    \"\"\"\n",
    "    Returns the potential (in kcal/mol) calculated using the \n",
    "    Ryckaert-Belleman formula. \n",
    "    \n",
    "    Input:\n",
    "        phi: Angle in degrees\n",
    "    Output:\n",
    "        Potential (in kcal/mol)\n",
    "    \"\"\"\n",
    "    psi = phi - 180\n",
    "    psi_rad = np.deg2rad(psi)\n",
    "    cos = np.cos(psi_rad)\n",
    "    p = np.poly1d(C_vec)\n",
    "    V = p(cos)\n",
    "    return V"
   ]
  },
  {
   "cell_type": "code",
   "execution_count": 39,
   "metadata": {
    "collapsed": true
   },
   "outputs": [],
   "source": [
    "def plot_RB(C, label):\n",
    "    phi = np.linspace(0,360,100)\n",
    "    plt.plot(phi, V_RB(phi, C), label=label)\n",
    "    plt.xlabel(r'$\\phi$ in degrees')\n",
    "    plt.ylabel(r'V')"
   ]
  },
  {
   "cell_type": "code",
   "execution_count": 37,
   "metadata": {},
   "outputs": [],
   "source": [
    "c_dict = {}\n",
    "md_no_torsion = xyz2ff(\"xyz_opt\", whole_energy=False)\n",
    "for scf in [\"B3LYP\", \"HF\"]:\n",
    "    V = res_qc[scf] - md_no_torsion\n",
    "    C = fit(V, res_qc[\"Angle\"])\n",
    "    c_dict[scf] = C\n",
    "    "
   ]
  },
  {
   "cell_type": "code",
   "execution_count": 54,
   "metadata": {},
   "outputs": [
    {
     "data": {
      "image/png": "[encoded data removed]",
      "text/plain": [
       "<matplotlib.figure.Figure at 0x7f44fcdffba8>"
      ]
     },
     "metadata": {},
     "output_type": "display_data"
    }
   ],
   "source": [
    "for key in c_dict.keys():\n",
    "    plot_RB(c_dict[key], key)\n",
    "plt.legend()\n",
    "plt.savefig(\"v_rb.pdf\")"
   ]
  },
  {
   "cell_type": "code",
   "execution_count": 43,
   "metadata": {},
   "outputs": [],
   "source": [
    "c_df = pd.DataFrame(c_dict)"
   ]
  },
  {
   "cell_type": "code",
   "execution_count": 51,
   "metadata": {},
   "outputs": [
    {
     "name": "stdout",
     "output_type": "stream",
     "text": [
      "      B3LYP        HF\n",
      "0  1.563306  1.486257\n",
      "1  1.668620  1.575792\n",
      "2 -8.396610 -9.882902\n",
      "3  1.109764  1.209000\n",
      "4  3.310302  4.355467\n",
      "5  1.543540  1.830176\n"
     ]
    }
   ],
   "source": [
    "print(c_df)"
   ]
  },
  {
   "cell_type": "code",
   "execution_count": 49,
   "metadata": {},
   "outputs": [],
   "source": [
    "c_df.to_csv(\"fits.csv\")"
   ]
  },
  {
   "cell_type": "code",
   "execution_count": null,
   "metadata": {
    "collapsed": true
   },
   "outputs": [],
   "source": []
  }
 ],
 "metadata": {
  "kernelspec": {
   "display_name": "Python [conda env:my-rdkit-env]",
   "language": "python",
   "name": "conda-env-my-rdkit-env-py"
  },
  "language_info": {
   "codemirror_mode": {
    "name": "ipython",
    "version": 3
   },
   "file_extension": ".py",
   "mimetype": "text/x-python",
   "name": "python",
   "nbconvert_exporter": "python",
   "pygments_lexer": "ipython3",
   "version": "3.6.2"
  }
 },
 "nbformat": 4,
 "nbformat_minor": 2
}
